{
 "cells": [
  {
   "cell_type": "code",
   "execution_count": 1,
   "metadata": {},
   "outputs": [],
   "source": [
    "from sklearn.externals import joblib\n",
    "import pandas as pd"
   ]
  },
  {
   "cell_type": "code",
   "execution_count": 2,
   "metadata": {},
   "outputs": [],
   "source": [
    "# read csv\n",
    "# save some server data as template for numpy array\n",
    "train_df_from_server = pd.read_csv('../../data/train_complete.csv', index_col= 0)\n",
    "# take a small subset of data and make it the client data\n",
    "train_df_from_client = train_df_from_server[300:310]"
   ]
  },
  {
   "cell_type": "code",
   "execution_count": 3,
   "metadata": {},
   "outputs": [
    {
     "data": {
      "text/plain": [
       "(30162, 15)"
      ]
     },
     "execution_count": 3,
     "metadata": {},
     "output_type": "execute_result"
    }
   ],
   "source": [
    "train_df_from_server.shape"
   ]
  },
  {
   "cell_type": "code",
   "execution_count": 4,
   "metadata": {},
   "outputs": [],
   "source": [
    "train_df_server_client = train_df_from_server.append(train_df_from_client, ignore_index=True)"
   ]
  },
  {
   "cell_type": "code",
   "execution_count": 5,
   "metadata": {},
   "outputs": [
    {
     "data": {
      "text/plain": [
       "(30172, 15)"
      ]
     },
     "execution_count": 5,
     "metadata": {},
     "output_type": "execute_result"
    }
   ],
   "source": [
    "train_df_server_client.shape"
   ]
  },
  {
   "cell_type": "code",
   "execution_count": 6,
   "metadata": {},
   "outputs": [],
   "source": [
    "dummy_cols = [\"workclass\", \"education\",\n",
    "             \"marital_stat\", \"occupation\",\n",
    "             \"relationship\", \"race\",\n",
    "             \"sex\", \"native_country\"]"
   ]
  },
  {
   "cell_type": "code",
   "execution_count": 8,
   "metadata": {},
   "outputs": [],
   "source": [
    "train_df_server_client_with_dummies = pd.get_dummies(train_df_server_client, columns= dummy_cols)"
   ]
  },
  {
   "cell_type": "code",
   "execution_count": 18,
   "metadata": {},
   "outputs": [],
   "source": [
    "test_df_client_only_with_dummies = train_df_server_client_with_dummies.iloc[-10:]"
   ]
  },
  {
   "cell_type": "code",
   "execution_count": 19,
   "metadata": {},
   "outputs": [
    {
     "data": {
      "text/html": [
       "<div>\n",
       "<style scoped>\n",
       "    .dataframe tbody tr th:only-of-type {\n",
       "        vertical-align: middle;\n",
       "    }\n",
       "\n",
       "    .dataframe tbody tr th {\n",
       "        vertical-align: top;\n",
       "    }\n",
       "\n",
       "    .dataframe thead th {\n",
       "        text-align: right;\n",
       "    }\n",
       "</style>\n",
       "<table border=\"1\" class=\"dataframe\">\n",
       "  <thead>\n",
       "    <tr style=\"text-align: right;\">\n",
       "      <th></th>\n",
       "      <th>age</th>\n",
       "      <th>fnlwgt</th>\n",
       "      <th>education_num</th>\n",
       "      <th>capital_gain</th>\n",
       "      <th>capital_loss</th>\n",
       "      <th>hr_per_wk</th>\n",
       "      <th>label</th>\n",
       "      <th>workclass_ Federal-gov</th>\n",
       "      <th>workclass_ Local-gov</th>\n",
       "      <th>workclass_ Private</th>\n",
       "      <th>...</th>\n",
       "      <th>native_country_ Portugal</th>\n",
       "      <th>native_country_ Puerto-Rico</th>\n",
       "      <th>native_country_ Scotland</th>\n",
       "      <th>native_country_ South</th>\n",
       "      <th>native_country_ Taiwan</th>\n",
       "      <th>native_country_ Thailand</th>\n",
       "      <th>native_country_ Trinadad&amp;Tobago</th>\n",
       "      <th>native_country_ United-States</th>\n",
       "      <th>native_country_ Vietnam</th>\n",
       "      <th>native_country_ Yugoslavia</th>\n",
       "    </tr>\n",
       "  </thead>\n",
       "  <tbody>\n",
       "    <tr>\n",
       "      <th>30162</th>\n",
       "      <td>29</td>\n",
       "      <td>200381</td>\n",
       "      <td>7</td>\n",
       "      <td>0</td>\n",
       "      <td>0</td>\n",
       "      <td>40</td>\n",
       "      <td>0</td>\n",
       "      <td>0</td>\n",
       "      <td>0</td>\n",
       "      <td>1</td>\n",
       "      <td>...</td>\n",
       "      <td>0</td>\n",
       "      <td>0</td>\n",
       "      <td>0</td>\n",
       "      <td>0</td>\n",
       "      <td>0</td>\n",
       "      <td>0</td>\n",
       "      <td>0</td>\n",
       "      <td>1</td>\n",
       "      <td>0</td>\n",
       "      <td>0</td>\n",
       "    </tr>\n",
       "    <tr>\n",
       "      <th>30163</th>\n",
       "      <td>76</td>\n",
       "      <td>174309</td>\n",
       "      <td>14</td>\n",
       "      <td>0</td>\n",
       "      <td>0</td>\n",
       "      <td>10</td>\n",
       "      <td>0</td>\n",
       "      <td>0</td>\n",
       "      <td>0</td>\n",
       "      <td>0</td>\n",
       "      <td>...</td>\n",
       "      <td>0</td>\n",
       "      <td>0</td>\n",
       "      <td>0</td>\n",
       "      <td>0</td>\n",
       "      <td>0</td>\n",
       "      <td>0</td>\n",
       "      <td>0</td>\n",
       "      <td>1</td>\n",
       "      <td>0</td>\n",
       "      <td>0</td>\n",
       "    </tr>\n",
       "    <tr>\n",
       "      <th>30164</th>\n",
       "      <td>63</td>\n",
       "      <td>78383</td>\n",
       "      <td>9</td>\n",
       "      <td>0</td>\n",
       "      <td>0</td>\n",
       "      <td>45</td>\n",
       "      <td>0</td>\n",
       "      <td>0</td>\n",
       "      <td>0</td>\n",
       "      <td>0</td>\n",
       "      <td>...</td>\n",
       "      <td>0</td>\n",
       "      <td>0</td>\n",
       "      <td>0</td>\n",
       "      <td>0</td>\n",
       "      <td>0</td>\n",
       "      <td>0</td>\n",
       "      <td>0</td>\n",
       "      <td>1</td>\n",
       "      <td>0</td>\n",
       "      <td>0</td>\n",
       "    </tr>\n",
       "    <tr>\n",
       "      <th>30165</th>\n",
       "      <td>43</td>\n",
       "      <td>187728</td>\n",
       "      <td>10</td>\n",
       "      <td>0</td>\n",
       "      <td>1887</td>\n",
       "      <td>50</td>\n",
       "      <td>1</td>\n",
       "      <td>0</td>\n",
       "      <td>0</td>\n",
       "      <td>1</td>\n",
       "      <td>...</td>\n",
       "      <td>0</td>\n",
       "      <td>0</td>\n",
       "      <td>0</td>\n",
       "      <td>0</td>\n",
       "      <td>0</td>\n",
       "      <td>0</td>\n",
       "      <td>0</td>\n",
       "      <td>1</td>\n",
       "      <td>0</td>\n",
       "      <td>0</td>\n",
       "    </tr>\n",
       "    <tr>\n",
       "      <th>30166</th>\n",
       "      <td>58</td>\n",
       "      <td>321171</td>\n",
       "      <td>9</td>\n",
       "      <td>0</td>\n",
       "      <td>0</td>\n",
       "      <td>40</td>\n",
       "      <td>0</td>\n",
       "      <td>0</td>\n",
       "      <td>0</td>\n",
       "      <td>0</td>\n",
       "      <td>...</td>\n",
       "      <td>0</td>\n",
       "      <td>0</td>\n",
       "      <td>0</td>\n",
       "      <td>0</td>\n",
       "      <td>0</td>\n",
       "      <td>0</td>\n",
       "      <td>0</td>\n",
       "      <td>1</td>\n",
       "      <td>0</td>\n",
       "      <td>0</td>\n",
       "    </tr>\n",
       "  </tbody>\n",
       "</table>\n",
       "<p>5 rows × 105 columns</p>\n",
       "</div>"
      ],
      "text/plain": [
       "       age  fnlwgt  education_num  capital_gain  capital_loss  hr_per_wk  \\\n",
       "30162   29  200381              7             0             0         40   \n",
       "30163   76  174309             14             0             0         10   \n",
       "30164   63   78383              9             0             0         45   \n",
       "30165   43  187728             10             0          1887         50   \n",
       "30166   58  321171              9             0             0         40   \n",
       "\n",
       "       label  workclass_ Federal-gov  workclass_ Local-gov  \\\n",
       "30162      0                       0                     0   \n",
       "30163      0                       0                     0   \n",
       "30164      0                       0                     0   \n",
       "30165      1                       0                     0   \n",
       "30166      0                       0                     0   \n",
       "\n",
       "       workclass_ Private             ...              \\\n",
       "30162                   1             ...               \n",
       "30163                   0             ...               \n",
       "30164                   0             ...               \n",
       "30165                   1             ...               \n",
       "30166                   0             ...               \n",
       "\n",
       "       native_country_ Portugal  native_country_ Puerto-Rico  \\\n",
       "30162                         0                            0   \n",
       "30163                         0                            0   \n",
       "30164                         0                            0   \n",
       "30165                         0                            0   \n",
       "30166                         0                            0   \n",
       "\n",
       "       native_country_ Scotland  native_country_ South  \\\n",
       "30162                         0                      0   \n",
       "30163                         0                      0   \n",
       "30164                         0                      0   \n",
       "30165                         0                      0   \n",
       "30166                         0                      0   \n",
       "\n",
       "       native_country_ Taiwan  native_country_ Thailand  \\\n",
       "30162                       0                         0   \n",
       "30163                       0                         0   \n",
       "30164                       0                         0   \n",
       "30165                       0                         0   \n",
       "30166                       0                         0   \n",
       "\n",
       "       native_country_ Trinadad&Tobago  native_country_ United-States  \\\n",
       "30162                                0                              1   \n",
       "30163                                0                              1   \n",
       "30164                                0                              1   \n",
       "30165                                0                              1   \n",
       "30166                                0                              1   \n",
       "\n",
       "       native_country_ Vietnam  native_country_ Yugoslavia  \n",
       "30162                        0                           0  \n",
       "30163                        0                           0  \n",
       "30164                        0                           0  \n",
       "30165                        0                           0  \n",
       "30166                        0                           0  \n",
       "\n",
       "[5 rows x 105 columns]"
      ]
     },
     "execution_count": 19,
     "metadata": {},
     "output_type": "execute_result"
    }
   ],
   "source": [
    "test_df_client_only_with_dummies.head()"
   ]
  },
  {
   "cell_type": "code",
   "execution_count": 24,
   "metadata": {},
   "outputs": [],
   "source": [
    "test_df_client_only_with_dummies = test_df_client_only_with_dummies.drop(['label'], axis=1)"
   ]
  },
  {
   "cell_type": "code",
   "execution_count": 25,
   "metadata": {},
   "outputs": [
    {
     "data": {
      "text/plain": [
       "(10, 104)"
      ]
     },
     "execution_count": 25,
     "metadata": {},
     "output_type": "execute_result"
    }
   ],
   "source": [
    "test_df_client_only_with_dummies.shape"
   ]
  },
  {
   "cell_type": "code",
   "execution_count": 26,
   "metadata": {},
   "outputs": [],
   "source": [
    "# create client test data\n",
    "X_client = test_df_client_only_with_dummies.values"
   ]
  },
  {
   "cell_type": "code",
   "execution_count": 27,
   "metadata": {},
   "outputs": [
    {
     "data": {
      "text/plain": [
       "(10, 104)"
      ]
     },
     "execution_count": 27,
     "metadata": {},
     "output_type": "execute_result"
    }
   ],
   "source": [
    "X_client.shape"
   ]
  },
  {
   "cell_type": "code",
   "execution_count": 39,
   "metadata": {},
   "outputs": [
    {
     "data": {
      "text/plain": [
       "'{\"age\":29,\"fnlwgt\":200381,\"education_num\":7,\"capital_gain\":0,\"capital_loss\":0,\"hr_per_wk\":40,\"workclass_ Federal-gov\":0,\"workclass_ Local-gov\":0,\"workclass_ Private\":1,\"workclass_ Self-emp-inc\":0,\"workclass_ Self-emp-not-inc\":0,\"workclass_ State-gov\":0,\"workclass_ Without-pay\":0,\"education_ 10th\":0,\"education_ 11th\":1,\"education_ 12th\":0,\"education_ 1st-4th\":0,\"education_ 5th-6th\":0,\"education_ 7th-8th\":0,\"education_ 9th\":0,\"education_ Assoc-acdm\":0,\"education_ Assoc-voc\":0,\"education_ Bachelors\":0,\"education_ Doctorate\":0,\"education_ HS-grad\":0,\"education_ Masters\":0,\"education_ Preschool\":0,\"education_ Prof-school\":0,\"education_ Some-college\":0,\"marital_stat_ Divorced\":0,\"marital_stat_ Married-AF-spouse\":0,\"marital_stat_ Married-civ-spouse\":0,\"marital_stat_ Married-spouse-absent\":0,\"marital_stat_ Never-married\":1,\"marital_stat_ Separated\":0,\"marital_stat_ Widowed\":0,\"occupation_ Adm-clerical\":0,\"occupation_ Armed-Forces\":0,\"occupation_ Craft-repair\":0,\"occupation_ Exec-managerial\":1,\"occupation_ Farming-fishing\":0,\"occupation_ Handlers-cleaners\":0,\"occupation_ Machine-op-inspct\":0,\"occupation_ Other-service\":0,\"occupation_ Priv-house-serv\":0,\"occupation_ Prof-specialty\":0,\"occupation_ Protective-serv\":0,\"occupation_ Sales\":0,\"occupation_ Tech-support\":0,\"occupation_ Transport-moving\":0,\"relationship_ Husband\":0,\"relationship_ Not-in-family\":1,\"relationship_ Other-relative\":0,\"relationship_ Own-child\":0,\"relationship_ Unmarried\":0,\"relationship_ Wife\":0,\"race_ Amer-Indian-Eskimo\":0,\"race_ Asian-Pac-Islander\":0,\"race_ Black\":0,\"race_ Other\":0,\"race_ White\":1,\"sex_ Female\":1,\"sex_ Male\":0,\"native_country_ Cambodia\":0,\"native_country_ Canada\":0,\"native_country_ China\":0,\"native_country_ Columbia\":0,\"native_country_ Cuba\":0,\"native_country_ Dominican-Republic\":0,\"native_country_ Ecuador\":0,\"native_country_ El-Salvador\":0,\"native_country_ England\":0,\"native_country_ France\":0,\"native_country_ Germany\":0,\"native_country_ Greece\":0,\"native_country_ Guatemala\":0,\"native_country_ Haiti\":0,\"native_country_ Holand-Netherlands\":0,\"native_country_ Honduras\":0,\"native_country_ Hong\":0,\"native_country_ Hungary\":0,\"native_country_ India\":0,\"native_country_ Iran\":0,\"native_country_ Ireland\":0,\"native_country_ Italy\":0,\"native_country_ Jamaica\":0,\"native_country_ Japan\":0,\"native_country_ Laos\":0,\"native_country_ Mexico\":0,\"native_country_ Nicaragua\":0,\"native_country_ Outlying-US(Guam-USVI-etc)\":0,\"native_country_ Peru\":0,\"native_country_ Philippines\":0,\"native_country_ Poland\":0,\"native_country_ Portugal\":0,\"native_country_ Puerto-Rico\":0,\"native_country_ Scotland\":0,\"native_country_ South\":0,\"native_country_ Taiwan\":0,\"native_country_ Thailand\":0,\"native_country_ Trinadad&Tobago\":0,\"native_country_ United-States\":1,\"native_country_ Vietnam\":0,\"native_country_ Yugoslavia\":0}'"
      ]
     },
     "execution_count": 39,
     "metadata": {},
     "output_type": "execute_result"
    }
   ],
   "source": [
    "test_df_client_only_with_dummies.iloc[0].to_json()"
   ]
  },
  {
   "cell_type": "code",
   "execution_count": null,
   "metadata": {},
   "outputs": [],
   "source": []
  }
 ],
 "metadata": {
  "kernelspec": {
   "display_name": "Python 3",
   "language": "python",
   "name": "python3"
  },
  "language_info": {
   "codemirror_mode": {
    "name": "ipython",
    "version": 3
   },
   "file_extension": ".py",
   "mimetype": "text/x-python",
   "name": "python",
   "nbconvert_exporter": "python",
   "pygments_lexer": "ipython3",
   "version": "3.6.5"
  }
 },
 "nbformat": 4,
 "nbformat_minor": 2
}
