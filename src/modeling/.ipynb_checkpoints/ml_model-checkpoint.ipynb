{
 "cells": [
  {
   "cell_type": "markdown",
   "metadata": {},
   "source": [
    "I will build several classifiers in this jupyter notebook then select the best one to deploy."
   ]
  },
  {
   "cell_type": "code",
   "execution_count": 1,
   "metadata": {},
   "outputs": [],
   "source": [
    "# important dependencies\n",
    "import os\n",
    "import numpy as np\n",
    "import pandas as pd\n",
    "import matplotlib.pyplot as plt\n",
    "import math\n",
    "from sklearn.linear_model import ElasticNet, ElasticNetCV, LinearRegression\n",
    "from sklearn.metrics import mean_squared_error\n",
    "from sklearn.model_selection import train_test_split, GridSearchCV\n",
    "from scipy import stats\n",
    "%matplotlib inline"
   ]
  },
  {
   "cell_type": "markdown",
   "metadata": {},
   "source": [
    "### 1. Preprocessing"
   ]
  },
  {
   "cell_type": "code",
   "execution_count": 2,
   "metadata": {},
   "outputs": [],
   "source": [
    "# read csv\n",
    "train_df = pd.read_csv('../../data/train_complete.csv')\n",
    "test_df = pd.read_csv('../../data/test_complete.csv')"
   ]
  },
  {
   "cell_type": "code",
   "execution_count": 3,
   "metadata": {},
   "outputs": [
    {
     "data": {
      "text/plain": [
       "(30162, 16)"
      ]
     },
     "execution_count": 3,
     "metadata": {},
     "output_type": "execute_result"
    }
   ],
   "source": [
    "# check csv dimension\n",
    "\n",
    "train_df.shape"
   ]
  },
  {
   "cell_type": "code",
   "execution_count": 4,
   "metadata": {},
   "outputs": [
    {
     "data": {
      "text/plain": [
       "(15061, 16)"
      ]
     },
     "execution_count": 4,
     "metadata": {},
     "output_type": "execute_result"
    }
   ],
   "source": [
    "test_df.shape"
   ]
  },
  {
   "cell_type": "code",
   "execution_count": 8,
   "metadata": {},
   "outputs": [
    {
     "data": {
      "text/plain": [
       "0         <=50K\n",
       "1         <=50K\n",
       "2         <=50K\n",
       "3         <=50K\n",
       "4         <=50K\n",
       "5         <=50K\n",
       "6         <=50K\n",
       "7          >50K\n",
       "8          >50K\n",
       "9          >50K\n",
       "10         >50K\n",
       "11         >50K\n",
       "12        <=50K\n",
       "13        <=50K\n",
       "14        <=50K\n",
       "15        <=50K\n",
       "16        <=50K\n",
       "17        <=50K\n",
       "18         >50K\n",
       "19         >50K\n",
       "20        <=50K\n",
       "21        <=50K\n",
       "22        <=50K\n",
       "23        <=50K\n",
       "24         >50K\n",
       "25        <=50K\n",
       "26        <=50K\n",
       "27        <=50K\n",
       "28        <=50K\n",
       "29        <=50K\n",
       "          ...  \n",
       "30132     <=50K\n",
       "30133     <=50K\n",
       "30134     <=50K\n",
       "30135     <=50K\n",
       "30136      >50K\n",
       "30137      >50K\n",
       "30138     <=50K\n",
       "30139     <=50K\n",
       "30140      >50K\n",
       "30141     <=50K\n",
       "30142      >50K\n",
       "30143     <=50K\n",
       "30144     <=50K\n",
       "30145     <=50K\n",
       "30146      >50K\n",
       "30147     <=50K\n",
       "30148     <=50K\n",
       "30149     <=50K\n",
       "30150     <=50K\n",
       "30151     <=50K\n",
       "30152     <=50K\n",
       "30153     <=50K\n",
       "30154     <=50K\n",
       "30155      >50K\n",
       "30156     <=50K\n",
       "30157     <=50K\n",
       "30158      >50K\n",
       "30159     <=50K\n",
       "30160     <=50K\n",
       "30161      >50K\n",
       "Name: label, Length: 30162, dtype: object"
      ]
     },
     "execution_count": 8,
     "metadata": {},
     "output_type": "execute_result"
    }
   ],
   "source": [
    "# turn label into 0 and 1\n",
    "# ref: https://stackoverflow.com/questions/51672709/converting-no-and-yes-into-0-and-1-in-pandas-dataframe\n",
    "\n",
    "train_df['label'].replace(['<=50K', '>50K'], value=[0, 1])"
   ]
  },
  {
   "cell_type": "code",
   "execution_count": 9,
   "metadata": {},
   "outputs": [
    {
     "data": {
      "text/plain": [
       "0     <=50K\n",
       "1     <=50K\n",
       "2     <=50K\n",
       "3     <=50K\n",
       "4     <=50K\n",
       "5     <=50K\n",
       "6     <=50K\n",
       "7      >50K\n",
       "8      >50K\n",
       "9      >50K\n",
       "Name: label, dtype: object"
      ]
     },
     "execution_count": 9,
     "metadata": {},
     "output_type": "execute_result"
    }
   ],
   "source": [
    "train_df['label'].head(10)"
   ]
  },
  {
   "cell_type": "code",
   "execution_count": 1,
   "metadata": {},
   "outputs": [],
   "source": [
    "# convert the discrete columns into dummiy variables\n",
    "dummy_cols = [\"workclass\", \"education\",\n",
    "             \"marital_stat\", \"occupation\",\n",
    "             \"relationship\", \"race\",\n",
    "             \"sex\", \"native_country\"]"
   ]
  },
  {
   "cell_type": "code",
   "execution_count": null,
   "metadata": {},
   "outputs": [],
   "source": []
  }
 ],
 "metadata": {
  "kernelspec": {
   "display_name": "Python 3",
   "language": "python",
   "name": "python3"
  },
  "language_info": {
   "codemirror_mode": {
    "name": "ipython",
    "version": 3
   },
   "file_extension": ".py",
   "mimetype": "text/x-python",
   "name": "python",
   "nbconvert_exporter": "python",
   "pygments_lexer": "ipython3",
   "version": "3.6.5"
  }
 },
 "nbformat": 4,
 "nbformat_minor": 2
}
